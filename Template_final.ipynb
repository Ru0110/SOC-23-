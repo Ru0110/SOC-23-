{
 "cells": [
  {
   "cell_type": "code",
   "execution_count": null,
   "id": "9c82700e",
   "metadata": {},
   "outputs": [],
   "source": [
    "! pip install gym gym-retro # Install the necessary packages"
   ]
  },
  {
   "cell_type": "code",
   "execution_count": null,
   "id": "8d8f53ca",
   "metadata": {},
   "outputs": [],
   "source": [
    "!pip install torch==1.10.2+cu113 torchvision==0.11.3+cu113 torchaudio===0.10.2+cu113 -f https://download.pytorch.org/whl/cu113/torch_stable.html\n"
   ]
  },
  {
   "cell_type": "markdown",
   "id": "70c3a557",
   "metadata": {},
   "source": [
    "### Imports and basic testing of installation"
   ]
  },
  {
   "cell_type": "code",
   "execution_count": null,
   "id": "09209fa0",
   "metadata": {},
   "outputs": [],
   "source": [
    "import retro # The main library\n",
    "import time # For timing learning, if needed\n",
    "import pygame # For rendering the game"
   ]
  },
  {
   "cell_type": "code",
   "execution_count": null,
   "id": "26f9b077",
   "metadata": {},
   "outputs": [],
   "source": [
    "retro.data.list_games()\n",
    "# There are actually many games provided by Gym Retro: this command let's you check them out!"
   ]
  },
  {
   "cell_type": "code",
   "execution_count": null,
   "id": "d1dcc213",
   "metadata": {},
   "outputs": [],
   "source": [
    "# Command to create your environment\n",
    "env = retro.make(game = \"StreetFighterIISpecialChampionEdition-Genesis\")"
   ]
  },
  {
   "cell_type": "code",
   "execution_count": null,
   "id": "28de2df8",
   "metadata": {},
   "outputs": [],
   "source": [
    "# This is the basic loop to be run. Here the sampling is random.\n",
    "# Watch this run carefully. Do you realise that finishing the first level barely requires any skill?\n",
    "# The juicy victory won by smashing keys randomly is an incentive to bring in more players to the arcade!\n",
    "# Reset game to starting state\n",
    "obs = env.reset()\n",
    "# Set flag to false\n",
    "done = False\n",
    "for game in range(1): \n",
    "    while not done: \n",
    "        if done: \n",
    "            obs = env.reset()\n",
    "        env.render()\n",
    "        obs, reward, done, info = env.step(env.action_space.sample())\n",
    "        time.sleep(0.01)\n",
    "        \n",
    "env.close()"
   ]
  },
  {
   "cell_type": "markdown",
   "id": "6a5c164e",
   "metadata": {},
   "source": [
    "### Your implementation"
   ]
  },
  {
   "cell_type": "code",
   "execution_count": null,
   "id": "59bfcad8",
   "metadata": {},
   "outputs": [],
   "source": []
  }
 ],
 "metadata": {
  "kernelspec": {
   "display_name": "Python (RLProj)",
   "language": "python",
   "name": "rlproj"
  },
  "language_info": {
   "codemirror_mode": {
    "name": "ipython",
    "version": 3
   },
   "file_extension": ".py",
   "mimetype": "text/x-python",
   "name": "python",
   "nbconvert_exporter": "python",
   "pygments_lexer": "ipython3",
   "version": "3.6.13"
  }
 },
 "nbformat": 4,
 "nbformat_minor": 5
}
