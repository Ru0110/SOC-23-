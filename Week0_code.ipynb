{
 "cells": [
  {
   "cell_type": "code",
   "execution_count": 1,
   "id": "898c9866",
   "metadata": {},
   "outputs": [],
   "source": [
    "import numpy as np"
   ]
  },
  {
   "cell_type": "code",
   "execution_count": 25,
   "id": "cb383982",
   "metadata": {},
   "outputs": [],
   "source": [
    "Capital = 10\n"
   ]
  },
  {
   "cell_type": "code",
   "execution_count": 31,
   "id": "ebf491ad",
   "metadata": {},
   "outputs": [],
   "source": [
    "# Function to simulate the game\n",
    "def gameA():\n",
    "    n = np.random.randint(0,1000)\n",
    "    if (0<=n and n<495) :\n",
    "        return 1 #win \n",
    "    elif (495<=n and n<1000):\n",
    "        return -1 #loss"
   ]
  },
  {
   "cell_type": "code",
   "execution_count": 32,
   "id": "343a5342",
   "metadata": {},
   "outputs": [],
   "source": [
    "def gameB():\n",
    "    if Capital%3 == 0:\n",
    "        m = np.random.randint(0,10)\n",
    "        if (0<=m and m<9):\n",
    "            return -1 #loss\n",
    "        elif m == 9:\n",
    "            return 1 #win \n",
    "    elif Capital%3 != 0: \n",
    "       a b = np.random.randint(0,4)\n",
    "        if (b == 0):\n",
    "            return -1 #loss\n",
    "        elif (b>0 and b<4):\n",
    "            return 1 #win\n",
    "        "
   ]
  },
  {
   "cell_type": "code",
   "execution_count": null,
   "id": "90981840",
   "metadata": {},
   "outputs": [
    {
     "name": "stdout",
     "output_type": "stream",
     "text": [
      " Current Capital:  10\n",
      "Enter A for Game A and B for Game B: A\n",
      " Current Capital:  11\n",
      "Enter A for Game A and B for Game B: B\n",
      " Current Capital:  12\n",
      "Enter A for Game A and B for Game B: A\n",
      " Current Capital:  13\n",
      "Enter A for Game A and B for Game B: a\n",
      " Current Capital:  14\n",
      "Enter A for Game A and B for Game B: a\n",
      " Current Capital:  13\n",
      "Enter A for Game A and B for Game B: a\n",
      " Current Capital:  12\n",
      "Enter A for Game A and B for Game B: b\n",
      " Current Capital:  11\n",
      "Enter A for Game A and B for Game B: a\n",
      " Current Capital:  10\n"
     ]
    }
   ],
   "source": [
    "if __name__ == \"__main__\":\n",
    "    for i in range(10):\n",
    "        print(\" Current Capital: \", Capital)\n",
    "        choice = input(\"Enter A for Game A and B for Game B: \")\n",
    "        if choice == 'A' or choice == 'a':\n",
    "            Capital += gameA()\n",
    "        elif choice == 'B' or choice == 'b':\n",
    "            Capital += gameB()\n",
    "        else:\n",
    "            print(\"Invalid choice\")\n",
    "            break\n",
    "    print(\"Final Capital: \", Capital)"
   ]
  },
  {
   "cell_type": "code",
   "execution_count": null,
   "id": "7007ea1f",
   "metadata": {},
   "outputs": [],
   "source": []
  }
 ],
 "metadata": {
  "kernelspec": {
   "display_name": "Python 3 (ipykernel)",
   "language": "python",
   "name": "python3"
  },
  "language_info": {
   "codemirror_mode": {
    "name": "ipython",
    "version": 3
   },
   "file_extension": ".py",
   "mimetype": "text/x-python",
   "name": "python",
   "nbconvert_exporter": "python",
   "pygments_lexer": "ipython3",
   "version": "3.9.15"
  }
 },
 "nbformat": 4,
 "nbformat_minor": 5
}
